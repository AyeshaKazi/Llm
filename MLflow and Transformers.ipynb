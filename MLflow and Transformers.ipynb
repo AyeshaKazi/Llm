{
 "cells": [
  {
   "cell_type": "code",
   "execution_count": null,
   "id": "ff2d65b6",
   "metadata": {},
   "outputs": [],
   "source": [
    "%%sh\n",
    "pip -q install transformers datasets ipywidgets mlflow --upgrade\n",
    "curl -s https://packagecloud.io/install/repositories/github/git-lfs/script.rpm.sh | sudo bash\n",
    "sudo yum install git-lfs -y\n",
    "git lfs install"
   ]
  },
  {
   "cell_type": "code",
   "execution_count": null,
   "id": "b89c63c5",
   "metadata": {},
   "outputs": [],
   "source": [
    "%matplotlib inline"
   ]
  },
  {
   "cell_type": "code",
   "execution_count": null,
   "id": "14dbaa03",
   "metadata": {},
   "outputs": [],
   "source": [
    "import os\n",
    "\n",
    "import numpy as np\n",
    "import pandas as pd\n",
    "from datasets import load_dataset, load_metric\n",
    "from huggingface_hub import notebook_login\n",
    "from matplotlib import pyplot as plt\n",
    "from transformers import (\n",
    "    AutoModelForSequenceClassification,\n",
    "    AutoTokenizer,\n",
    "    Trainer,\n",
    "    TrainingArguments,\n",
    ")\n",
    "\n",
    "import mlflow"
   ]
  },
  {
   "cell_type": "code",
   "execution_count": null,
   "id": "770dade7",
   "metadata": {},
   "outputs": [],
   "source": [
    "notebook_login()"
   ]
  },
  {
   "cell_type": "code",
   "execution_count": null,
   "id": "b906d527",
   "metadata": {},
   "outputs": [],
   "source": [
    "!git config --global credential.helper store"
   ]
  },
  {
   "cell_type": "code",
   "execution_count": null,
   "id": "35fe4e5a",
   "metadata": {},
   "outputs": [],
   "source": [
    "train_dataset, test_dataset = load_dataset(\"imdb\", split=[\"train\", \"test\"])"
   ]
  },
  {
   "cell_type": "code",
   "execution_count": null,
   "id": "8b7f5a2a",
   "metadata": {},
   "outputs": [],
   "source": [
    "model = AutoModelForSequenceClassification.from_pretrained(\"distilbert-base-cased\", num_labels=2)\n",
    "tokenizer = AutoTokenizer.from_pretrained(\"distilbert-base-cased\")"
   ]
  },
  {
   "cell_type": "code",
   "execution_count": null,
   "id": "15dcf2ba",
   "metadata": {},
   "outputs": [],
   "source": [
    "def tokenize_function(examples):\n",
    "    return tokenizer(examples[\"text\"], padding=\"max_length\", truncation=True)\n",
    "\n",
    "\n",
    "train_dataset = train_dataset.map(tokenize_function, batched=True)\n",
    "test_dataset = test_dataset.map(tokenize_function, batched=True)"
   ]
  },
  {
   "cell_type": "code",
   "execution_count": null,
   "id": "378651ae",
   "metadata": {},
   "outputs": [],
   "source": [
    "metric = load_metric(\"accuracy\")\n",
    "\n",
    "\n",
    "def compute_metrics(eval_pred):\n",
    "    logits, labels = eval_pred\n",
    "    predictions = np.argmax(logits, axis=-1)\n",
    "    return metric.compute(predictions=predictions, references=labels)"
   ]
  },
  {
   "cell_type": "code",
   "execution_count": null,
   "id": "5765c444",
   "metadata": {},
   "outputs": [],
   "source": [
    "# https://huggingface.co/docs/transformers/v4.20.1/en/main_classes/callback#transformers.integrations.MLflowCallback\n",
    "\n",
    "os.environ[\"MLFLOW_EXPERIMENT_NAME\"] = \"trainer-mlflow-demo\"\n",
    "os.environ[\"MLFLOW_FLATTEN_PARAMS\"] = \"1\"\n",
    "# os.environ[\"MLFLOW_TRACKING_URI\"]=\"\"\n",
    "# os.environ[\"HF_MLFLOW_LOG_ARTIFACTS\"]=\"1\""
   ]
  },
  {
   "cell_type": "code",
   "execution_count": null,
   "id": "dc34b584",
   "metadata": {},
   "outputs": [],
   "source": [
    "training_args = TrainingArguments(\n",
    "    hub_model_id=\"juliensimon/distilbert-imdb-mlflow\",\n",
    "    num_train_epochs=1,\n",
    "    output_dir=\"./output\",\n",
    "    logging_steps=500,\n",
    "    save_strategy=\"epoch\",\n",
    "    push_to_hub=True,\n",
    ")"
   ]
  },
  {
   "cell_type": "code",
   "execution_count": null,
   "id": "e42c0478",
   "metadata": {},
   "outputs": [],
   "source": [
    "trainer = Trainer(\n",
    "    model=model,\n",
    "    args=training_args,\n",
    "    train_dataset=train_dataset,\n",
    "    eval_dataset=test_dataset,\n",
    "    compute_metrics=compute_metrics,\n",
    ")"
   ]
  },
  {
   "cell_type": "code",
   "execution_count": null,
   "id": "0fe21e17",
   "metadata": {},
   "outputs": [],
   "source": [
    "trainer.train()"
   ]
  },
  {
   "cell_type": "code",
   "execution_count": null,
   "id": "2ba0030a",
   "metadata": {},
   "outputs": [],
   "source": [
    "mlflow.end_run()"
   ]
  },
  {
   "cell_type": "code",
   "execution_count": null,
   "id": "a81296c6",
   "metadata": {},
   "outputs": [],
   "source": [
    "trainer.push_to_hub()"
   ]
  },
  {
   "cell_type": "code",
   "execution_count": null,
   "id": "e0dff78f",
   "metadata": {},
   "outputs": [],
   "source": [
    "%%sh\n",
    "cp -r mlruns output\n",
    "cd output\n",
    "git add mlruns\n",
    "git commit -m 'Add MLflow run'\n",
    "git push"
   ]
  },
  {
   "cell_type": "code",
   "execution_count": null,
   "id": "7c141b00",
   "metadata": {},
   "outputs": [],
   "source": [
    "!ls -l mlruns/1"
   ]
  },
  {
   "cell_type": "code",
   "execution_count": null,
   "id": "1a805a91",
   "metadata": {},
   "outputs": [],
   "source": [
    "run = \"1/1a4ab6fd80784bd6a83b447fd01a45ca\""
   ]
  },
  {
   "cell_type": "code",
   "execution_count": null,
   "id": "49436b4f",
   "metadata": {},
   "outputs": [],
   "source": [
    "def plot_metric(metric_name):\n",
    "    metric = pd.read_csv(\n",
    "        f\"mlruns/{run}/metrics/{metric_name}\", sep=\" \", names=[\"timestamp\", \"value\", \"steps\"]\n",
    "    )\n",
    "    plt.plot(metric[\"steps\"], metric[\"value\"])"
   ]
  },
  {
   "cell_type": "code",
   "execution_count": null,
   "id": "7362769a",
   "metadata": {},
   "outputs": [],
   "source": [
    "plot_metric(\"loss\")"
   ]
  },
  {
   "cell_type": "code",
   "execution_count": null,
   "id": "ad32cb4b",
   "metadata": {},
   "outputs": [],
   "source": [
    "plt.clf()\n",
    "plot_metric(\"learning_rate\")"
   ]
  },
  {
   "cell_type": "code",
   "execution_count": null,
   "id": "891c761a",
   "metadata": {},
   "outputs": [],
   "source": []
  },
  {
   "cell_type": "code",
   "execution_count": null,
   "id": "77dda85c",
   "metadata": {},
   "outputs": [],
   "source": []
  }
 ],
 "metadata": {
  "kernelspec": {
   "display_name": "conda_pytorch_p38",
   "language": "python",
   "name": "conda_pytorch_p38"
  },
  "language_info": {
   "codemirror_mode": {
    "name": "ipython",
    "version": 3
   },
   "file_extension": ".py",
   "mimetype": "text/x-python",
   "name": "python",
   "nbconvert_exporter": "python",
   "pygments_lexer": "ipython3",
   "version": "3.8.12"
  }
 },
 "nbformat": 4,
 "nbformat_minor": 5
}
